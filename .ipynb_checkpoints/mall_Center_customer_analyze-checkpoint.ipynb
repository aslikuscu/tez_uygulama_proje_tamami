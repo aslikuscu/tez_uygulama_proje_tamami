{
 "cells": [
  {
   "cell_type": "code",
   "execution_count": 1,
   "id": "17e0941a-e6c9-4b80-990c-316ed93956ff",
   "metadata": {
    "tags": []
   },
   "outputs": [],
   "source": [
    "import pandas as pd\n"
   ]
  },
  {
   "cell_type": "code",
   "execution_count": 2,
   "id": "7bcae34e-181f-47b4-8824-450c0921563d",
   "metadata": {
    "tags": []
   },
   "outputs": [],
   "source": [
    "\n",
    "# Veri setini yükle\n",
    "data = pd.read_csv(r'C:\\Users\\asli_\\PYTHON_PROJECTS\\TEZ_PROJE\\small-mall-dataset.csv')\n"
   ]
  },
  {
   "cell_type": "code",
   "execution_count": 4,
   "id": "694334c2-a5b0-4c0b-a336-009dde160d6a",
   "metadata": {
    "tags": []
   },
   "outputs": [
    {
     "data": {
      "text/html": [
       "<div>\n",
       "<style scoped>\n",
       "    .dataframe tbody tr th:only-of-type {\n",
       "        vertical-align: middle;\n",
       "    }\n",
       "\n",
       "    .dataframe tbody tr th {\n",
       "        vertical-align: top;\n",
       "    }\n",
       "\n",
       "    .dataframe thead th {\n",
       "        text-align: right;\n",
       "    }\n",
       "</style>\n",
       "<table border=\"1\" class=\"dataframe\">\n",
       "  <thead>\n",
       "    <tr style=\"text-align: right;\">\n",
       "      <th></th>\n",
       "      <th>Invoice ID</th>\n",
       "      <th>Branch</th>\n",
       "      <th>City</th>\n",
       "      <th>Customer type</th>\n",
       "      <th>Gender</th>\n",
       "      <th>Product line</th>\n",
       "      <th>Unit price</th>\n",
       "      <th>Quantity</th>\n",
       "      <th>Tax 5%</th>\n",
       "      <th>Total</th>\n",
       "      <th>Date</th>\n",
       "      <th>Time</th>\n",
       "      <th>Payment</th>\n",
       "      <th>cogs</th>\n",
       "      <th>gross margin percentage</th>\n",
       "      <th>gross income</th>\n",
       "      <th>Rating</th>\n",
       "    </tr>\n",
       "  </thead>\n",
       "  <tbody>\n",
       "    <tr>\n",
       "      <th>0</th>\n",
       "      <td>750-67-8428</td>\n",
       "      <td>A</td>\n",
       "      <td>Yangon</td>\n",
       "      <td>Member</td>\n",
       "      <td>Female</td>\n",
       "      <td>Health and beauty</td>\n",
       "      <td>74.69</td>\n",
       "      <td>7</td>\n",
       "      <td>26.1415</td>\n",
       "      <td>548.9715</td>\n",
       "      <td>1/5/2019</td>\n",
       "      <td>13:08</td>\n",
       "      <td>Ewallet</td>\n",
       "      <td>522.83</td>\n",
       "      <td>4.761905</td>\n",
       "      <td>26.1415</td>\n",
       "      <td>9.1</td>\n",
       "    </tr>\n",
       "    <tr>\n",
       "      <th>1</th>\n",
       "      <td>226-31-3081</td>\n",
       "      <td>C</td>\n",
       "      <td>Naypyitaw</td>\n",
       "      <td>Normal</td>\n",
       "      <td>Female</td>\n",
       "      <td>Electronic accessories</td>\n",
       "      <td>15.28</td>\n",
       "      <td>5</td>\n",
       "      <td>3.8200</td>\n",
       "      <td>80.2200</td>\n",
       "      <td>3/8/2019</td>\n",
       "      <td>10:29</td>\n",
       "      <td>Cash</td>\n",
       "      <td>76.40</td>\n",
       "      <td>4.761905</td>\n",
       "      <td>3.8200</td>\n",
       "      <td>9.6</td>\n",
       "    </tr>\n",
       "    <tr>\n",
       "      <th>2</th>\n",
       "      <td>631-41-3108</td>\n",
       "      <td>A</td>\n",
       "      <td>Yangon</td>\n",
       "      <td>Normal</td>\n",
       "      <td>Male</td>\n",
       "      <td>Home and lifestyle</td>\n",
       "      <td>46.33</td>\n",
       "      <td>7</td>\n",
       "      <td>16.2155</td>\n",
       "      <td>340.5255</td>\n",
       "      <td>3/3/2019</td>\n",
       "      <td>13:23</td>\n",
       "      <td>Credit card</td>\n",
       "      <td>324.31</td>\n",
       "      <td>4.761905</td>\n",
       "      <td>16.2155</td>\n",
       "      <td>7.4</td>\n",
       "    </tr>\n",
       "    <tr>\n",
       "      <th>3</th>\n",
       "      <td>123-19-1176</td>\n",
       "      <td>A</td>\n",
       "      <td>Yangon</td>\n",
       "      <td>Member</td>\n",
       "      <td>Male</td>\n",
       "      <td>Health and beauty</td>\n",
       "      <td>58.22</td>\n",
       "      <td>8</td>\n",
       "      <td>23.2880</td>\n",
       "      <td>489.0480</td>\n",
       "      <td>1/27/2019</td>\n",
       "      <td>20:33</td>\n",
       "      <td>Ewallet</td>\n",
       "      <td>465.76</td>\n",
       "      <td>4.761905</td>\n",
       "      <td>23.2880</td>\n",
       "      <td>8.4</td>\n",
       "    </tr>\n",
       "    <tr>\n",
       "      <th>4</th>\n",
       "      <td>373-73-7910</td>\n",
       "      <td>A</td>\n",
       "      <td>Yangon</td>\n",
       "      <td>Normal</td>\n",
       "      <td>Male</td>\n",
       "      <td>Sports and travel</td>\n",
       "      <td>86.31</td>\n",
       "      <td>7</td>\n",
       "      <td>30.2085</td>\n",
       "      <td>634.3785</td>\n",
       "      <td>2/8/2019</td>\n",
       "      <td>10:37</td>\n",
       "      <td>Ewallet</td>\n",
       "      <td>604.17</td>\n",
       "      <td>4.761905</td>\n",
       "      <td>30.2085</td>\n",
       "      <td>5.3</td>\n",
       "    </tr>\n",
       "  </tbody>\n",
       "</table>\n",
       "</div>"
      ],
      "text/plain": [
       "    Invoice ID Branch       City Customer type  Gender  \\\n",
       "0  750-67-8428      A     Yangon        Member  Female   \n",
       "1  226-31-3081      C  Naypyitaw        Normal  Female   \n",
       "2  631-41-3108      A     Yangon        Normal    Male   \n",
       "3  123-19-1176      A     Yangon        Member    Male   \n",
       "4  373-73-7910      A     Yangon        Normal    Male   \n",
       "\n",
       "             Product line  Unit price  Quantity   Tax 5%     Total       Date  \\\n",
       "0       Health and beauty       74.69         7  26.1415  548.9715   1/5/2019   \n",
       "1  Electronic accessories       15.28         5   3.8200   80.2200   3/8/2019   \n",
       "2      Home and lifestyle       46.33         7  16.2155  340.5255   3/3/2019   \n",
       "3       Health and beauty       58.22         8  23.2880  489.0480  1/27/2019   \n",
       "4       Sports and travel       86.31         7  30.2085  634.3785   2/8/2019   \n",
       "\n",
       "    Time      Payment    cogs  gross margin percentage  gross income  Rating  \n",
       "0  13:08      Ewallet  522.83                 4.761905       26.1415     9.1  \n",
       "1  10:29         Cash   76.40                 4.761905        3.8200     9.6  \n",
       "2  13:23  Credit card  324.31                 4.761905       16.2155     7.4  \n",
       "3  20:33      Ewallet  465.76                 4.761905       23.2880     8.4  \n",
       "4  10:37      Ewallet  604.17                 4.761905       30.2085     5.3  "
      ]
     },
     "execution_count": 4,
     "metadata": {},
     "output_type": "execute_result"
    }
   ],
   "source": [
    "\n",
    "# Veri setinin ilk birkaç satırını incele\n",
    "data.head()\n"
   ]
  },
  {
   "cell_type": "code",
   "execution_count": 5,
   "id": "8846c20f-ff62-43cd-a841-b1238605b60a",
   "metadata": {
    "tags": []
   },
   "outputs": [
    {
     "name": "stdout",
     "output_type": "stream",
     "text": [
      "Ürün Kategorilerine Göre Toplam Satış Miktarları:\n",
      "\n",
      "Product line\n",
      "Food and beverages        56144.8440\n",
      "Sports and travel         55122.8265\n",
      "Electronic accessories    54337.5315\n",
      "Fashion accessories       54305.8950\n",
      "Home and lifestyle        53861.9130\n",
      "Health and beauty         49193.7390\n",
      "Name: Total, dtype: float64\n",
      "\n",
      "Düşük Satış Yapan Kategoriler:\n",
      "\n",
      "Product line\n",
      "Fashion accessories    54305.895\n",
      "Home and lifestyle     53861.913\n",
      "Health and beauty      49193.739\n",
      "Name: Total, dtype: float64\n"
     ]
    }
   ],
   "source": [
    "# Satışların Toplam Değerine Göre Ürün Kategorileri Analizi:\n",
    "#Hangi ürün kategorileri toplam satışlarda daha fazla katkı sağlıyor?\n",
    "#Hangi kategoriler daha az satılıyor ve bu kategorilerde bir artış stratejisi uygulanabilir mi?\n",
    "\n",
    "# Ürün kategorilerine göre toplam satış miktarları\n",
    "sales_by_category = data.groupby('Product line')['Total'].sum().sort_values(ascending=False)\n",
    "\n",
    "print(\"Ürün Kategorilerine Göre Toplam Satış Miktarları:\\n\")\n",
    "print(sales_by_category)\n",
    "\n",
    "# Hangi kategoriler daha az satılıyor?\n",
    "low_sales_categories = sales_by_category.tail(3)  # Örneğin, son 3 kategoriyi alalım\n",
    "\n",
    "print(\"\\nDüşük Satış Yapan Kategoriler:\\n\")\n",
    "print(low_sales_categories)\n"
   ]
  },
  {
   "cell_type": "code",
   "execution_count": 6,
   "id": "a32f16d0-89c1-4597-abbd-fbe1d60e935b",
   "metadata": {
    "tags": []
   },
   "outputs": [
    {
     "name": "stdout",
     "output_type": "stream",
     "text": [
      "\n",
      "Müşteri Tipi ve Ürün Satış Dağılımı:\n",
      "\n",
      "Customer type  Product line          \n",
      "Member         Electronic accessories    429\n",
      "               Fashion accessories       439\n",
      "               Food and beverages        506\n",
      "               Health and beauty         428\n",
      "               Home and lifestyle        490\n",
      "               Sports and travel         493\n",
      "Normal         Electronic accessories    542\n",
      "               Fashion accessories       463\n",
      "               Food and beverages        446\n",
      "               Health and beauty         426\n",
      "               Home and lifestyle        421\n",
      "               Sports and travel         427\n",
      "Name: Quantity, dtype: int64\n",
      "\n",
      "Müşteri Tipine Göre Toplam Harcamalar:\n",
      "\n",
      "Customer type\n",
      "Member    164223.444\n",
      "Normal    158743.305\n",
      "Name: Total, dtype: float64\n"
     ]
    }
   ],
   "source": [
    "#2. Müşteri Tipi ve Satın Alma Davranışı Analizi:\n",
    "#Farklı müşteri tipleri (bireyler, kurumsal müşteriler vb.) hangi ürünleri daha fazla satın alıyor?\n",
    "#Belirli müşteri tipleri arasında satışların dağılımı nasıl?\n",
    "#Müşteri tipine göre promosyonlar veya indirimler uygulanabilir mi?\n",
    "\n",
    "# Farklı müşteri tiplerine göre ürün satışlarının dağılımı\n",
    "customer_product_distribution = data.groupby(['Customer type', 'Product line'])['Quantity'].sum()\n",
    "\n",
    "print(\"\\nMüşteri Tipi ve Ürün Satış Dağılımı:\\n\")\n",
    "print(customer_product_distribution)\n",
    "\n",
    "# Müşteri tipine göre toplam harcamalar\n",
    "customer_spending = data.groupby('Customer type')['Total'].sum()\n",
    "\n",
    "print(\"\\nMüşteri Tipine Göre Toplam Harcamalar:\\n\")\n",
    "print(customer_spending)\n"
   ]
  },
  {
   "cell_type": "code",
   "execution_count": 7,
   "id": "8c35d01e-79e7-47e8-873b-0965bac0257f",
   "metadata": {
    "tags": []
   },
   "outputs": [
    {
     "name": "stdout",
     "output_type": "stream",
     "text": [
      "\n",
      "Günlere Göre Toplam Satış Miktarları:\n",
      "\n",
      "Day\n",
      "Saturday     56120.8095\n",
      "Tuesday      51482.2455\n",
      "Thursday     45349.2480\n",
      "Sunday       44457.8925\n",
      "Friday       43926.3405\n",
      "Wednesday    43731.1350\n",
      "Monday       37899.0780\n",
      "Name: Total, dtype: float64\n",
      "\n",
      "Hafta İçi ve Hafta Sonu Satış Karşılaştırması:\n",
      "\n",
      "Date\n",
      "False    100578.702\n",
      "True     222388.047\n",
      "Name: Total, dtype: float64\n"
     ]
    }
   ],
   "source": [
    "#3. Zaman Bazlı Satış Analizi:\n",
    "#Hangi günler, hangi saatlerde satışlar en yüksek?\n",
    "#Hafta içi mi, hafta sonu mu daha fazla satış yapılıyor?\n",
    "#Bu bilgiler ışığında promosyonların veya etkinliklerin zamanlaması nasıl olmalı?\n",
    "\n",
    "# Hangi günlerde ve saatlerde satışlar en yüksek?\n",
    "data['Date'] = pd.to_datetime(data['Date'])\n",
    "data['Day'] = data['Date'].dt.day_name()\n",
    "\n",
    "sales_by_day = data.groupby('Day')['Total'].sum().sort_values(ascending=False)\n",
    "\n",
    "print(\"\\nGünlere Göre Toplam Satış Miktarları:\\n\")\n",
    "print(sales_by_day)\n",
    "\n",
    "# Hafta içi mi, hafta sonu mu daha fazla satış yapılıyor?\n",
    "sales_weekend_vs_weekday = data.groupby(data['Date'].dt.weekday < 5)['Total'].sum()\n",
    "\n",
    "print(\"\\nHafta İçi ve Hafta Sonu Satış Karşılaştırması:\\n\")\n",
    "print(sales_weekend_vs_weekday)\n"
   ]
  },
  {
   "cell_type": "code",
   "execution_count": 8,
   "id": "bcc78212-b0c1-41ad-9e53-2496031b58e7",
   "metadata": {
    "tags": []
   },
   "outputs": [
    {
     "name": "stdout",
     "output_type": "stream",
     "text": [
      "\n",
      "Müşteri Memnuniyeti ve Toplam Satışlar:\n",
      "\n",
      "Rating\n",
      "4.0     3986.5140\n",
      "4.1     3589.1835\n",
      "4.2     9275.9100\n",
      "4.3     5958.1095\n",
      "4.4     6716.5665\n",
      "          ...    \n",
      "9.6     5592.2580\n",
      "9.7     3332.3955\n",
      "9.8     4976.9265\n",
      "9.9     5822.9325\n",
      "10.0    2080.3545\n",
      "Name: Total, Length: 61, dtype: float64\n",
      "\n",
      "Yüksek Memnuniyet Puanına Sahip Müşterilerin Toplam Harcamaları:\n",
      "\n",
      "52840.0845\n"
     ]
    }
   ],
   "source": [
    "#4. Müşteri Memnuniyeti ve Satışlar Arasındaki İlişki:\n",
    "#Müşteri memnuniyeti puanları ile satışlar arasında bir ilişki var mı?\n",
    "#Yüksek memnuniyet puanına sahip müşteriler daha fazla mı harcama yapıyor?\n",
    "\n",
    "# Müşteri memnuniyeti puanları ile satışlar arasındaki ilişki\n",
    "customer_rating_sales = data.groupby('Rating')['Total'].sum()\n",
    "\n",
    "print(\"\\nMüşteri Memnuniyeti ve Toplam Satışlar:\\n\")\n",
    "print(customer_rating_sales)\n",
    "\n",
    "# Yüksek memnuniyet puanına sahip müşterilerin harcamaları\n",
    "high_rating_spending = data[data['Rating'] >= 9]['Total'].sum()\n",
    "\n",
    "print(\"\\nYüksek Memnuniyet Puanına Sahip Müşterilerin Toplam Harcamaları:\\n\")\n",
    "print(high_rating_spending)\n"
   ]
  },
  {
   "cell_type": "code",
   "execution_count": 9,
   "id": "f013ce1e-f77d-4c47-86e6-34d90550de66",
   "metadata": {
    "tags": []
   },
   "outputs": [
    {
     "name": "stdout",
     "output_type": "stream",
     "text": [
      "\n",
      "Müşteri Tipine Göre Dağılım:\n",
      "Customer type\n",
      "Member    501\n",
      "Normal    499\n",
      "Name: count, dtype: int64\n",
      "\n",
      "Cinsiyete Göre Dağılım:\n",
      "Gender\n",
      "Female    501\n",
      "Male      499\n",
      "Name: count, dtype: int64\n"
     ]
    }
   ],
   "source": [
    "# Müşteri tipine (Customer Type) göre kaç kişi var?\n",
    "customer_type_counts = data['Customer type'].value_counts()\n",
    "print(\"\\nMüşteri Tipine Göre Dağılım:\")\n",
    "print(customer_type_counts)\n",
    "\n",
    "# Cinsiyete (Gender) göre müşteri dağılımı nasıl?\n",
    "gender_counts = data['Gender'].value_counts()\n",
    "print(\"\\nCinsiyete Göre Dağılım:\")\n",
    "print(gender_counts)"
   ]
  },
  {
   "cell_type": "code",
   "execution_count": 10,
   "id": "d39f976a-6465-4777-993d-ce81475e3788",
   "metadata": {
    "tags": []
   },
   "outputs": [
    {
     "name": "stdout",
     "output_type": "stream",
     "text": [
      "\n",
      "Ürün Çizgilerine Göre Satışlar:\n",
      "Product line\n",
      "Fashion accessories       178\n",
      "Food and beverages        174\n",
      "Electronic accessories    170\n",
      "Sports and travel         166\n",
      "Home and lifestyle        160\n",
      "Health and beauty         152\n",
      "Name: count, dtype: int64\n",
      "\n",
      "Ürün Bazında Toplam Gelirler:\n",
      "Product line\n",
      "Food and beverages        56144.8440\n",
      "Sports and travel         55122.8265\n",
      "Electronic accessories    54337.5315\n",
      "Fashion accessories       54305.8950\n",
      "Home and lifestyle        53861.9130\n",
      "Health and beauty         49193.7390\n",
      "Name: Total, dtype: float64\n"
     ]
    }
   ],
   "source": [
    "# Hangi ürün çizgileri (Product line) daha fazla satılıyor?\n",
    "popular_product_lines = data['Product line'].value_counts()\n",
    "print(\"\\nÜrün Çizgilerine Göre Satışlar:\")\n",
    "print(popular_product_lines)\n",
    "\n",
    "# Hangi ürünler en yüksek/toplam geliri sağlıyor?\n",
    "total_sales_by_product = data.groupby('Product line')['Total'].sum().sort_values(ascending=False)\n",
    "print(\"\\nÜrün Bazında Toplam Gelirler:\")\n",
    "print(total_sales_by_product)\n"
   ]
  },
  {
   "cell_type": "code",
   "execution_count": 11,
   "id": "b00cf3a9-4b0d-4484-8f81-4ae8264d250b",
   "metadata": {
    "tags": []
   },
   "outputs": [
    {
     "name": "stdout",
     "output_type": "stream",
     "text": [
      "\n",
      "Şubelere Göre Satışlar:\n",
      "Branch\n",
      "A    340\n",
      "B    332\n",
      "C    328\n",
      "Name: count, dtype: int64\n",
      "\n",
      "Şubelere Göre Ortalama Satış Miktarları:\n",
      "Branch\n",
      "C    337.099715\n",
      "B    319.872506\n",
      "A    312.354031\n",
      "Name: Total, dtype: float64\n"
     ]
    }
   ],
   "source": [
    "# Hangi şube (Branch) daha fazla satış yapıyor?\n",
    "branch_sales = data['Branch'].value_counts()\n",
    "print(\"\\nŞubelere Göre Satışlar:\")\n",
    "print(branch_sales)\n",
    "\n",
    "# Şubelere göre ortalama satış miktarları ne?\n",
    "average_sales_by_branch = data.groupby('Branch')['Total'].mean().sort_values(ascending=False)\n",
    "print(\"\\nŞubelere Göre Ortalama Satış Miktarları:\")\n",
    "print(average_sales_by_branch)\n"
   ]
  },
  {
   "cell_type": "code",
   "execution_count": 12,
   "id": "c90cfd4d-cb66-44a5-b674-b0ece548c23c",
   "metadata": {
    "tags": []
   },
   "outputs": [
    {
     "name": "stdout",
     "output_type": "stream",
     "text": [
      "\n",
      "Kategori Bazında Toplam Gelirler:\n",
      "Product line\n",
      "Food and beverages        56144.8440\n",
      "Sports and travel         55122.8265\n",
      "Electronic accessories    54337.5315\n",
      "Fashion accessories       54305.8950\n",
      "Home and lifestyle        53861.9130\n",
      "Health and beauty         49193.7390\n",
      "Name: Total, dtype: float64\n",
      "\n",
      "Kategori Bazında Vergi ve Gelirler:\n",
      "                           Tax 5%       Total\n",
      "Product line                                 \n",
      "Electronic accessories  2587.5015  54337.5315\n",
      "Fashion accessories     2585.9950  54305.8950\n",
      "Food and beverages      2673.5640  56144.8440\n",
      "Health and beauty       2342.5590  49193.7390\n",
      "Home and lifestyle      2564.8530  53861.9130\n",
      "Sports and travel       2624.8965  55122.8265\n"
     ]
    }
   ],
   "source": [
    "# Ürün kategorilerine (Product line) göre toplam gelirlerin karşılaştırılması.\n",
    "total_revenue_by_category = data.groupby('Product line')['Total'].sum().sort_values(ascending=False)\n",
    "print(\"\\nKategori Bazında Toplam Gelirler:\")\n",
    "print(total_revenue_by_category)\n",
    "\n",
    "# Vergi oranı (Tax 5%) ile toplam gelirler arasındaki ilişki.\n",
    "tax_vs_revenue = data.groupby('Product line')[['Tax 5%', 'Total']].sum()\n",
    "print(\"\\nKategori Bazında Vergi ve Gelirler:\")\n",
    "print(tax_vs_revenue)\n"
   ]
  },
  {
   "cell_type": "code",
   "execution_count": 14,
   "id": "19f8338e-499b-45ad-887a-0aea7152a51a",
   "metadata": {
    "tags": []
   },
   "outputs": [
    {
     "name": "stdout",
     "output_type": "stream",
     "text": [
      "\n",
      "Aylara Göre Toplam Satışlar:\n",
      "Date\n",
      "1    116291.868\n",
      "2     97219.374\n",
      "3    109455.507\n",
      "Name: Total, dtype: float64\n"
     ]
    }
   ],
   "source": [
    "# Satışların hangi aylarda/dönemlerde yoğun olduğunun analizi.\n",
    "monthly_sales = data.groupby(pd.to_datetime(data['Date']).dt.month)['Total'].sum()\n",
    "print(\"\\nAylara Göre Toplam Satışlar:\")\n",
    "print(monthly_sales)\n",
    "\n",
    "# Günlük/haftalık/aylık satış trendlerinin belirlenmesi.\n",
    "daily_sales = data.groupby(pd.to_datetime(data['Date']).dt.date)['Total'].sum()\n",
    "weekly_sales = data.groupby(pd.to_datetime(data['Date']).dt.year)['Total'].sum()\n"
   ]
  },
  {
   "cell_type": "code",
   "execution_count": 15,
   "id": "08b99417-b558-49e4-a32b-a2d2550007ff",
   "metadata": {
    "tags": []
   },
   "outputs": [
    {
     "name": "stdout",
     "output_type": "stream",
     "text": [
      "\n",
      "Saatlere Göre Toplam Satışlar:\n",
      "Time\n",
      "10    31421.4810\n",
      "11    30377.3295\n",
      "12    26065.8825\n",
      "13    34723.2270\n",
      "14    30828.3990\n",
      "15    31179.5085\n",
      "16    25226.3235\n",
      "17    24445.2180\n",
      "18    26030.3400\n",
      "19    39699.5130\n",
      "20    22969.5270\n",
      "Name: Total, dtype: float64\n",
      "\n",
      "Saatlik Ortalama Satışlar:\n",
      "Time\n",
      "10    311.103772\n",
      "11    337.525883\n",
      "12    292.875084\n",
      "13    337.118709\n",
      "14    371.426494\n",
      "15    305.681456\n",
      "16    327.614591\n",
      "17    330.340784\n",
      "18    279.896129\n",
      "19    351.323124\n",
      "20    306.260360\n",
      "Name: Total, dtype: float64\n"
     ]
    },
    {
     "name": "stderr",
     "output_type": "stream",
     "text": [
      "C:\\Users\\asli_\\AppData\\Local\\Temp\\ipykernel_13908\\3677996172.py:2: UserWarning: Could not infer format, so each element will be parsed individually, falling back to `dateutil`. To ensure parsing is consistent and as-expected, please specify a format.\n",
      "  hourly_sales = data.groupby(pd.to_datetime(data['Time']).dt.hour)['Total'].sum()\n",
      "C:\\Users\\asli_\\AppData\\Local\\Temp\\ipykernel_13908\\3677996172.py:7: UserWarning: Could not infer format, so each element will be parsed individually, falling back to `dateutil`. To ensure parsing is consistent and as-expected, please specify a format.\n",
      "  hourly_trend = data.groupby(pd.to_datetime(data['Time']).dt.hour)['Total'].mean()\n"
     ]
    }
   ],
   "source": [
    "# Satışların hangi saatlerde yoğunlaştığının analizi.\n",
    "hourly_sales = data.groupby(pd.to_datetime(data['Time']).dt.hour)['Total'].sum()\n",
    "print(\"\\nSaatlere Göre Toplam Satışlar:\")\n",
    "print(hourly_sales)\n",
    "\n",
    "# Saatlik satış trendlerinin incelenmesi.\n",
    "hourly_trend = data.groupby(pd.to_datetime(data['Time']).dt.hour)['Total'].mean()\n",
    "print(\"\\nSaatlik Ortalama Satışlar:\")\n",
    "print(hourly_trend)\n"
   ]
  },
  {
   "cell_type": "code",
   "execution_count": null,
   "id": "5efd648e-93fe-4dc5-b88e-4cf025fc93aa",
   "metadata": {},
   "outputs": [],
   "source": []
  }
 ],
 "metadata": {
  "kernelspec": {
   "display_name": "Python 3 (ipykernel)",
   "language": "python",
   "name": "python3"
  },
  "language_info": {
   "codemirror_mode": {
    "name": "ipython",
    "version": 3
   },
   "file_extension": ".py",
   "mimetype": "text/x-python",
   "name": "python",
   "nbconvert_exporter": "python",
   "pygments_lexer": "ipython3",
   "version": "3.11.7"
  }
 },
 "nbformat": 4,
 "nbformat_minor": 5
}
